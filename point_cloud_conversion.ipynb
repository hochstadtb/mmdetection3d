{
 "cells": [
  {
   "cell_type": "code",
   "execution_count": 5,
   "metadata": {},
   "outputs": [],
   "source": [
    "# Imports\n",
    "import open3d as o3d\n",
    "import numpy as np\n",
    "import torch\n",
    "import csv\n",
    "import os\n",
    "\n",
    "# To convert to a .py file: jupyter nbconvert --to python model_evaluation.ipynb\n",
    "DEBUG=True\n",
    "\n",
    "pcd_file_path='/home/hoch/dev/pcd2bin/pcd/garage_color.pcd'\n",
    "csv_file_path='/home/hoch/dev/pcd2bin/pcd/meta.csv'\n",
    "bin_file_path='/home/hoch/dev/garage.bin'\n",
    "pcd_file = o3d.io.read_point_cloud(pcd_file_path)\n",
    "\n",
    "# pcd_file_path='/home/hoch/dev/pcd2bin/pcd/garage.pcd'\n",
    "# pcd_file=pypcd.PointCloud.from_path(pcd_file_path)\n",
    "# print(pcd_file_path)\n",
    "# print(pcd_file.__dict__)\n",
    "\n",
    "# pcd_file_path='/home/hoch/dev/pcd2bin/pcd/garage_color.pcd'\n",
    "# pcd_file=pypcd.PointCloud.from_path(pcd_file_path)\n",
    "# print(pcd_file_path)\n",
    "# print(pcd_file.__dict__)"
   ]
  },
  {
   "cell_type": "code",
   "execution_count": null,
   "metadata": {},
   "outputs": [],
   "source": [
    "if(DEBUG):\n",
    "    print(np.asarray(pcd_file.points).shape)\n",
    "    o3d.visualization.draw_geometries([pcd_file])\n",
    "\n",
    "    print(\"Downsample the point cloud with a voxel of 0.05\")\n",
    "    downpcd = pcd_file.voxel_down_sample(voxel_size=0.05)\n",
    "    o3d.visualization.draw_geometries([downpcd])\n",
    "\n",
    "    print(\"Recompute the normal of the downsampled point cloud\")\n",
    "    downpcd.estimate_normals(search_param=o3d.geometry.KDTreeSearchParamHybrid(\n",
    "        radius=0.1, max_nn=30))\n",
    "    o3d.visualization.draw_geometries([downpcd])"
   ]
  },
  {
   "cell_type": "code",
   "execution_count": 7,
   "metadata": {},
   "outputs": [],
   "source": [
    "new_pcd = o3d.t.io.read_point_cloud(pcd_file_path)\n",
    "positions  = new_pcd.point['positions'].numpy().astype(np.float32)\n",
    "colors     = new_pcd.point['colors'].numpy().astype(np.float32)\n",
    "# normals = new_pcd.point['normals']\n"
   ]
  },
  {
   "cell_type": "code",
   "execution_count": 65,
   "metadata": {},
   "outputs": [
    {
     "name": "stdout",
     "output_type": "stream",
     "text": [
      "(125826, 4)\n",
      "(125635, 4)\n"
     ]
    }
   ],
   "source": [
    "x_values = positions[:, 0]\n",
    "y_values = positions[:, 1]\n",
    "z_values = positions[:, 2]\n",
    "# https://docs.agi32.com/AGi32/Content/multi_use_forms/Reflectance_and_Color_Selection_-_Concepts.htm\n",
    "# Y = 0.2126 * R + 0.7152 * G + 0.0722 * B\n",
    "l_values = 0.2126 * colors[:, 0] + \\\n",
    "           0.7152 * colors[:, 1] + \\\n",
    "           0.0722 * colors[:, 2]\n",
    "\n",
    "# Scale [0, 255] range to [0, 1]\n",
    "i_values = l_values / 255.0\n",
    "\n",
    "new_points = np.transpose(np.vstack((x_values, y_values, z_values, i_values)))\n",
    "new_points.tofile(bin_file_path)\n"
   ]
  },
  {
   "cell_type": "code",
   "execution_count": 61,
   "metadata": {},
   "outputs": [
    {
     "name": "stdout",
     "output_type": "stream",
     "text": [
      "image: data/cmpe249-fa22/kitti/testing/velodyne/000000.bin -- shape: (502540,)\n",
      "[5.5025e+01 2.5000e-02 2.0700e+00 0.0000e+00]\n",
      "image: /home/hoch/dev/garage.bin -- shape: (503304,)\n",
      "[-46.654545  -26.063972  -62.99285     0.6508251]\n",
      "image: data/cmpe249-fa22/kitti/testing/velodyne/000001.bin -- shape: (488436,)\n",
      "[30.458  5.764  1.257  0.08 ]\n",
      "image: data/cmpe249-fa22/kitti/testing/velodyne/000002.bin -- shape: (462416,)\n",
      "[75.692  3.495  2.771  0.   ]\n",
      "image: data/cmpe249-fa22/kitti/testing/velodyne/000003.bin -- shape: (487180,)\n",
      "[47.187  8.56   1.831  0.   ]\n",
      "image: data/cmpe249-fa22/kitti/testing/velodyne/000004.bin -- shape: (498256,)\n",
      "[37.786  7.897  1.514  0.94 ]\n",
      "image: data/cmpe249-fa22/kitti/testing/velodyne/000005.bin -- shape: (439092,)\n",
      "[4.1405e+01 1.3000e-02 1.6090e+00 0.0000e+00]\n",
      "image: data/cmpe249-fa22/kitti/testing/velodyne/000006.bin -- shape: (449772,)\n",
      "[76.231 23.11   2.903  0.   ]\n",
      "image: data/cmpe249-fa22/kitti/testing/velodyne/000007.bin -- shape: (460944,)\n",
      "[26.729  0.083  1.113  0.   ]\n",
      "image: data/cmpe249-fa22/kitti/testing/velodyne/000008.bin -- shape: (469640,)\n",
      "[78.83   5.381  2.881  0.   ]\n",
      "image: data/cmpe249-fa22/kitti/testing/velodyne/000009.bin -- shape: (461100,)\n",
      "[18.316  0.049  0.828  0.   ]\n"
     ]
    }
   ],
   "source": [
    "# DEBUG\n",
    "\n",
    "INPUT_IMAGES=['/home/hoch/dev/garage.bin', # Custom point cloud file\n",
    "              'data/cmpe249-fa22/kitti/testing/velodyne/000000.bin',\n",
    "              'data/cmpe249-fa22/kitti/testing/velodyne/000001.bin',\n",
    "              'data/cmpe249-fa22/kitti/testing/velodyne/000002.bin',\n",
    "              'data/cmpe249-fa22/kitti/testing/velodyne/000003.bin',\n",
    "              'data/cmpe249-fa22/kitti/testing/velodyne/000004.bin',\n",
    "              'data/cmpe249-fa22/kitti/testing/velodyne/000005.bin',\n",
    "              'data/cmpe249-fa22/kitti/testing/velodyne/000006.bin',\n",
    "              'data/cmpe249-fa22/kitti/testing/velodyne/000007.bin',\n",
    "              'data/cmpe249-fa22/kitti/testing/velodyne/000008.bin',\n",
    "              'data/cmpe249-fa22/kitti/testing/velodyne/000009.bin']\n",
    "\n",
    "for image in INPUT_IMAGES:\n",
    "    current_file = np.fromfile(image, dtype='float32')\n",
    "    print(f'image: {image} -- shape: {current_file.shape}')\n",
    "    print(current_file[0:4])\n",
    "\n",
    "# bad_file  = np.fromfile(INPUT_IMAGES[0], dtype='float32')\n",
    "# good_file = np.fromfile(INPUT_IMAGES[1], dtype='float32')"
   ]
  }
 ],
 "metadata": {
  "kernelspec": {
   "display_name": "Python 3.7.13 ('venvpy')",
   "language": "python",
   "name": "python3"
  },
  "language_info": {
   "codemirror_mode": {
    "name": "ipython",
    "version": 3
   },
   "file_extension": ".py",
   "mimetype": "text/x-python",
   "name": "python",
   "nbconvert_exporter": "python",
   "pygments_lexer": "ipython3",
   "version": "3.7.13"
  },
  "orig_nbformat": 4,
  "vscode": {
   "interpreter": {
    "hash": "ffb91dcf6a2bf67151bbade8d629a7c3e53b342decc458822fd825517d02e4be"
   }
  }
 },
 "nbformat": 4,
 "nbformat_minor": 2
}
