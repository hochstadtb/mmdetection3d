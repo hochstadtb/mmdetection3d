{
 "cells": [
  {
   "cell_type": "code",
   "execution_count": 10,
   "metadata": {},
   "outputs": [],
   "source": [
    "# Imports\n",
    "from mmdet3d.apis import init_model, inference_detector\n",
    "import time\n",
    "\n",
    "# To convert to a .py file: jupyter nbconvert --to python model_evaluation.ipynb"
   ]
  },
  {
   "cell_type": "code",
   "execution_count": 11,
   "metadata": {},
   "outputs": [],
   "source": [
    "# Configuration fields\n",
    "DISPLAY_VISUALIZATION=False\n",
    "DEVICE='cpu' # My machine doesn't have an NVIDIA graphics card, so set device to cpu so that we don't attemp to use CUDA cores\n",
    "CONFIG_FILE='configs/pointpillars/hv_pointpillars_secfpn_6x8_160e_kitti-3d-3class.py'\n",
    "CHECKPOINT='work_dirs/hv_pointpillars_secfpn_6x8_160e_kitti-3d-3class/epoch_10.pth'\n",
    "INPUT_IMAGES=['data/cmpe249-fa22/kitti/testing/velodyne/000000.bin',\n",
    "              'data/cmpe249-fa22/kitti/testing/velodyne/000001.bin',\n",
    "              'data/cmpe249-fa22/kitti/testing/velodyne/000002.bin',\n",
    "              'data/cmpe249-fa22/kitti/testing/velodyne/000003.bin',\n",
    "              'data/cmpe249-fa22/kitti/testing/velodyne/000004.bin',\n",
    "              'data/cmpe249-fa22/kitti/testing/velodyne/000005.bin',\n",
    "              'data/cmpe249-fa22/kitti/testing/velodyne/000006.bin',\n",
    "              'data/cmpe249-fa22/kitti/testing/velodyne/000007.bin',\n",
    "              'data/cmpe249-fa22/kitti/testing/velodyne/000008.bin',\n",
    "              'data/cmpe249-fa22/kitti/testing/velodyne/000009.bin']"
   ]
  },
  {
   "cell_type": "code",
   "execution_count": 12,
   "metadata": {},
   "outputs": [
    {
     "name": "stdout",
     "output_type": "stream",
     "text": [
      "------------------------------\n",
      "Initializing model using the following..\n",
      "Config file:     configs/pointpillars/hv_pointpillars_secfpn_6x8_160e_kitti-3d-3class.py\n",
      "Checkpoint file: work_dirs/hv_pointpillars_secfpn_6x8_160e_kitti-3d-3class/epoch_10.pth\n",
      "Device:          cpu\n",
      "------------------------------\n",
      "load checkpoint from local path: work_dirs/hv_pointpillars_secfpn_6x8_160e_kitti-3d-3class/epoch_10.pth\n"
     ]
    },
    {
     "name": "stderr",
     "output_type": "stream",
     "text": [
      "2022-08-24 04:40:57,393 - mmdet3d - WARNING - Don't suggest using CPU device. Some functions are not supported for now.\n"
     ]
    },
    {
     "name": "stdout",
     "output_type": "stream",
     "text": [
      "Number of inference images on: 10\n",
      "Performing inference on data/cmpe249-fa22/kitti/testing/velodyne/000000.bin..\n",
      "Completed, latency of 1.045548439025879s\n",
      "Performing inference on data/cmpe249-fa22/kitti/testing/velodyne/000001.bin..\n",
      "Completed, latency of 0.6089508533477783s\n",
      "Performing inference on data/cmpe249-fa22/kitti/testing/velodyne/000002.bin..\n",
      "Completed, latency of 0.5769538879394531s\n",
      "Performing inference on data/cmpe249-fa22/kitti/testing/velodyne/000003.bin..\n",
      "Completed, latency of 0.7216470241546631s\n",
      "Performing inference on data/cmpe249-fa22/kitti/testing/velodyne/000004.bin..\n",
      "Completed, latency of 0.8878073692321777s\n",
      "Performing inference on data/cmpe249-fa22/kitti/testing/velodyne/000005.bin..\n",
      "Completed, latency of 0.5016584396362305s\n",
      "Performing inference on data/cmpe249-fa22/kitti/testing/velodyne/000006.bin..\n",
      "Completed, latency of 0.7949259281158447s\n",
      "Performing inference on data/cmpe249-fa22/kitti/testing/velodyne/000007.bin..\n",
      "Completed, latency of 0.7009079456329346s\n",
      "Performing inference on data/cmpe249-fa22/kitti/testing/velodyne/000008.bin..\n",
      "Completed, latency of 0.5131371021270752s\n",
      "Performing inference on data/cmpe249-fa22/kitti/testing/velodyne/000009.bin..\n",
      "Completed, latency of 0.636932373046875s\n",
      "------------------------------\n",
      "Total inference latency:   6.988469362258911s\n",
      "Average inference latency: 0.6988469362258911s\n"
     ]
    }
   ],
   "source": [
    "# Initialize the model using the given config file and checkpoint pkl\n",
    "print('------------------------------')\n",
    "print('Initializing model using the following..')\n",
    "print(f'Config file:     {CONFIG_FILE}')\n",
    "print(f'Checkpoint file: {CHECKPOINT}')\n",
    "print(f'Device:          {DEVICE}')\n",
    "print('------------------------------')\n",
    "model = init_model(CONFIG_FILE, CHECKPOINT, DEVICE)\n",
    "\n",
    "num_images = len(INPUT_IMAGES)\n",
    "print(f'Number of inference images on: {num_images}')\n",
    "\n",
    "time_deltas = []\n",
    "for image in INPUT_IMAGES:\n",
    "    print(f'Performing inference on {image}..')\n",
    "\n",
    "    start_time = time.time()\n",
    "    results, data = inference_detector(model, image)\n",
    "    time_delta = time.time() - start_time\n",
    "    \n",
    "    print(f'Completed, latency of {time_delta}s')\n",
    "    time_deltas.append(time_delta)\n",
    "\n",
    "    model.show_results(data, results, out_dir='results', show=DISPLAY_VISUALIZATION)\n",
    "\n",
    "inference_time_total = sum(time_deltas)\n",
    "print('------------------------------')\n",
    "print(f'Total inference latency:   {inference_time_total}s')\n",
    "print(f'Average inference latency: {inference_time_total / num_images}s')"
   ]
  }
 ],
 "metadata": {
  "kernelspec": {
   "display_name": "Python 3.7.13 ('venvpy')",
   "language": "python",
   "name": "python3"
  },
  "language_info": {
   "codemirror_mode": {
    "name": "ipython",
    "version": 3
   },
   "file_extension": ".py",
   "mimetype": "text/x-python",
   "name": "python",
   "nbconvert_exporter": "python",
   "pygments_lexer": "ipython3",
   "version": "3.7.13"
  },
  "orig_nbformat": 4,
  "vscode": {
   "interpreter": {
    "hash": "ffb91dcf6a2bf67151bbade8d629a7c3e53b342decc458822fd825517d02e4be"
   }
  }
 },
 "nbformat": 4,
 "nbformat_minor": 2
}
